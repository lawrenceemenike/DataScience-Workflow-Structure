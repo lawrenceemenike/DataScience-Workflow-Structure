{
  "nbformat": 4,
  "nbformat_minor": 0,
  "metadata": {
    "colab": {
      "provenance": [],
      "toc_visible": true,
      "authorship_tag": "ABX9TyMRbSWd1U47BIzygyVbm892",
      "include_colab_link": true
    },
    "kernelspec": {
      "name": "python3",
      "display_name": "Python 3"
    },
    "language_info": {
      "name": "python"
    }
  },
  "cells": [
    {
      "cell_type": "markdown",
      "metadata": {
        "id": "view-in-github",
        "colab_type": "text"
      },
      "source": [
        "<a href=\"https://colab.research.google.com/github/lawrenceemenike/DataScience-Workflow-Structure/blob/main/data_sciene_notebook.ipynb\" target=\"_parent\"><img src=\"https://colab.research.google.com/assets/colab-badge.svg\" alt=\"Open In Colab\"/></a>"
      ]
    },
    {
      "cell_type": "markdown",
      "source": [
        "## Ingest"
      ],
      "metadata": {
        "id": "S6GA5tX6rglf"
      }
    },
    {
      "cell_type": "code",
      "source": [],
      "metadata": {
        "id": "qtKeXtY5rkoS"
      },
      "execution_count": null,
      "outputs": []
    },
    {
      "cell_type": "markdown",
      "source": [
        "## EDA"
      ],
      "metadata": {
        "id": "dIn8jjMdrl99"
      }
    },
    {
      "cell_type": "code",
      "source": [],
      "metadata": {
        "id": "2HzyF-_jrnQm"
      },
      "execution_count": null,
      "outputs": []
    },
    {
      "cell_type": "markdown",
      "source": [
        "## Modeling"
      ],
      "metadata": {
        "id": "VeotzwVNrsQg"
      }
    },
    {
      "cell_type": "code",
      "source": [],
      "metadata": {
        "id": "GAMnVQXRrtY0"
      },
      "execution_count": null,
      "outputs": []
    },
    {
      "cell_type": "markdown",
      "source": [
        "### Classification Algorithm A"
      ],
      "metadata": {
        "id": "QABZRBdir0x7"
      }
    },
    {
      "cell_type": "code",
      "source": [],
      "metadata": {
        "id": "qoJqOlnjr5I1"
      },
      "execution_count": null,
      "outputs": []
    },
    {
      "cell_type": "markdown",
      "source": [
        "### Classification Algorithm B"
      ],
      "metadata": {
        "id": "8CNhqb_ar5hx"
      }
    },
    {
      "cell_type": "markdown",
      "source": [
        "## Conclusion"
      ],
      "metadata": {
        "id": "UULOBINert7D"
      }
    },
    {
      "cell_type": "code",
      "source": [],
      "metadata": {
        "id": "BmI2fOEcrwJB"
      },
      "execution_count": null,
      "outputs": []
    }
  ]
}